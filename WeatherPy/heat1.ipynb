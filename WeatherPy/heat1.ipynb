{
 "cells": [
  {
   "cell_type": "code",
   "execution_count": 2,
   "metadata": {},
   "outputs": [],
   "source": [
    "import requests\n",
    "import csv\n",
    "import os\n",
    "import pandas as pd\n",
    "from api_keys import google_key\n",
    "import gmaps"
   ]
  },
  {
   "cell_type": "code",
   "execution_count": 5,
   "metadata": {},
   "outputs": [
    {
     "data": {
      "text/html": [
       "<div>\n",
       "<style scoped>\n",
       "    .dataframe tbody tr th:only-of-type {\n",
       "        vertical-align: middle;\n",
       "    }\n",
       "\n",
       "    .dataframe tbody tr th {\n",
       "        vertical-align: top;\n",
       "    }\n",
       "\n",
       "    .dataframe thead th {\n",
       "        text-align: right;\n",
       "    }\n",
       "</style>\n",
       "<table border=\"1\" class=\"dataframe\">\n",
       "  <thead>\n",
       "    <tr style=\"text-align: right;\">\n",
       "      <th></th>\n",
       "      <th>City_ID</th>\n",
       "      <th>City</th>\n",
       "      <th>Country</th>\n",
       "      <th>Latitude</th>\n",
       "      <th>Longitude</th>\n",
       "      <th>Max_Temp(F)</th>\n",
       "      <th>Humidity(%)</th>\n",
       "      <th>Cloudiness</th>\n",
       "      <th>Wind_Speed(MPH)</th>\n",
       "    </tr>\n",
       "  </thead>\n",
       "  <tbody>\n",
       "    <tr>\n",
       "      <th>0</th>\n",
       "      <td>1</td>\n",
       "      <td>souillac</td>\n",
       "      <td>mu</td>\n",
       "      <td>-20.5167</td>\n",
       "      <td>57.5167</td>\n",
       "      <td>84.36</td>\n",
       "      <td>63</td>\n",
       "      <td>20</td>\n",
       "      <td>13.06</td>\n",
       "    </tr>\n",
       "    <tr>\n",
       "      <th>1</th>\n",
       "      <td>2</td>\n",
       "      <td>norman  wells</td>\n",
       "      <td>ca</td>\n",
       "      <td>65.282</td>\n",
       "      <td>-126.8329</td>\n",
       "      <td>-24.36</td>\n",
       "      <td>82</td>\n",
       "      <td>100</td>\n",
       "      <td>6.26</td>\n",
       "    </tr>\n",
       "    <tr>\n",
       "      <th>2</th>\n",
       "      <td>3</td>\n",
       "      <td>busselton</td>\n",
       "      <td>au</td>\n",
       "      <td>-33.65</td>\n",
       "      <td>115.3333</td>\n",
       "      <td>74.32</td>\n",
       "      <td>53</td>\n",
       "      <td>100</td>\n",
       "      <td>17.38</td>\n",
       "    </tr>\n",
       "    <tr>\n",
       "      <th>3</th>\n",
       "      <td>4</td>\n",
       "      <td>vaini</td>\n",
       "      <td>to</td>\n",
       "      <td>-21.2</td>\n",
       "      <td>-175.2</td>\n",
       "      <td>84.2</td>\n",
       "      <td>84</td>\n",
       "      <td>100</td>\n",
       "      <td>11.63</td>\n",
       "    </tr>\n",
       "    <tr>\n",
       "      <th>4</th>\n",
       "      <td>5</td>\n",
       "      <td>iqaluit</td>\n",
       "      <td>ca</td>\n",
       "      <td>63.7506</td>\n",
       "      <td>-68.5145</td>\n",
       "      <td>23</td>\n",
       "      <td>91</td>\n",
       "      <td>100</td>\n",
       "      <td>17.6</td>\n",
       "    </tr>\n",
       "    <tr>\n",
       "      <th>5</th>\n",
       "      <td>6</td>\n",
       "      <td>kumluca</td>\n",
       "      <td>tr</td>\n",
       "      <td>36.3703</td>\n",
       "      <td>30.2869</td>\n",
       "      <td>65.66</td>\n",
       "      <td>50</td>\n",
       "      <td>5</td>\n",
       "      <td>4.21</td>\n",
       "    </tr>\n",
       "    <tr>\n",
       "      <th>6</th>\n",
       "      <td>7</td>\n",
       "      <td>hermanus</td>\n",
       "      <td>za</td>\n",
       "      <td>-34.4187</td>\n",
       "      <td>19.2345</td>\n",
       "      <td>73.72</td>\n",
       "      <td>62</td>\n",
       "      <td>1</td>\n",
       "      <td>8.63</td>\n",
       "    </tr>\n",
       "    <tr>\n",
       "      <th>7</th>\n",
       "      <td>8</td>\n",
       "      <td>rikitea</td>\n",
       "      <td>pf</td>\n",
       "      <td>-23.1203</td>\n",
       "      <td>-134.9692</td>\n",
       "      <td>79.18</td>\n",
       "      <td>68</td>\n",
       "      <td>1</td>\n",
       "      <td>10.67</td>\n",
       "    </tr>\n",
       "    <tr>\n",
       "      <th>8</th>\n",
       "      <td>9</td>\n",
       "      <td>broome</td>\n",
       "      <td>au</td>\n",
       "      <td>-17.9667</td>\n",
       "      <td>122.2333</td>\n",
       "      <td>86</td>\n",
       "      <td>69</td>\n",
       "      <td>19</td>\n",
       "      <td>12.71</td>\n",
       "    </tr>\n",
       "    <tr>\n",
       "      <th>9</th>\n",
       "      <td>10</td>\n",
       "      <td>georgetown</td>\n",
       "      <td>sh</td>\n",
       "      <td>-7.9333</td>\n",
       "      <td>-14.4167</td>\n",
       "      <td>78.4</td>\n",
       "      <td>82</td>\n",
       "      <td>3</td>\n",
       "      <td>17.4</td>\n",
       "    </tr>\n",
       "  </tbody>\n",
       "</table>\n",
       "</div>"
      ],
      "text/plain": [
       "  City_ID             City Country  Latitude  Longitude Max_Temp(F)  \\\n",
       "0       1         souillac      mu  -20.5167    57.5167       84.36   \n",
       "1       2   norman  wells       ca    65.282  -126.8329      -24.36   \n",
       "2       3        busselton      au    -33.65   115.3333       74.32   \n",
       "3       4            vaini      to     -21.2     -175.2        84.2   \n",
       "4       5          iqaluit      ca   63.7506   -68.5145          23   \n",
       "5       6          kumluca      tr   36.3703    30.2869       65.66   \n",
       "6       7         hermanus      za  -34.4187    19.2345       73.72   \n",
       "7       8          rikitea      pf  -23.1203  -134.9692       79.18   \n",
       "8       9           broome      au  -17.9667   122.2333          86   \n",
       "9      10       georgetown      sh   -7.9333   -14.4167        78.4   \n",
       "\n",
       "  Humidity(%) Cloudiness Wind_Speed(MPH)  \n",
       "0          63         20           13.06  \n",
       "1          82        100            6.26  \n",
       "2          53        100           17.38  \n",
       "3          84        100           11.63  \n",
       "4          91        100            17.6  \n",
       "5          50          5            4.21  \n",
       "6          62          1            8.63  \n",
       "7          68          1           10.67  \n",
       "8          69         19           12.71  \n",
       "9          82          3            17.4  "
      ]
     },
     "execution_count": 5,
     "metadata": {},
     "output_type": "execute_result"
    }
   ],
   "source": [
    "csvpath = os.path.join('.', 'data', 'cities_data.csv')\n",
    "\n",
    "datafile = open(csvpath)\n",
    "data = csv.DictReader(datafile)\n",
    "data_df = pd.DataFrame(data)\n",
    "data_df"
   ]
  },
  {
   "cell_type": "code",
   "execution_count": 43,
   "metadata": {},
   "outputs": [
    {
     "data": {
      "application/vnd.jupyter.widget-view+json": {
       "model_id": "1a8e938f2274428ea16b99e47e77eeda",
       "version_major": 2,
       "version_minor": 0
      },
      "text/plain": [
       "Figure(layout=FigureLayout(height='420px'))"
      ]
     },
     "metadata": {},
     "output_type": "display_data"
    }
   ],
   "source": [
    "locations = [[float(data_df.loc[x,'Latitude']),float(data_df.loc[x,'Longitude'])] for x in range(len(data_df))]\n",
    "weights = [int(data_df.loc[x,'Humidity(%)']) for x in range(len(data_df))]\n",
    "\n",
    "gmaps.configure(api_key=google_key)\n",
    "fig = gmaps.figure(map_type='HYBRID', center=(46.0, -100.0), zoom_level = 2)\n",
    "fig.add_layer(gmaps.heatmap_layer(locations, weights=weights))\n",
    "fig"
   ]
  },
  {
   "cell_type": "code",
   "execution_count": 55,
   "metadata": {},
   "outputs": [
    {
     "data": {
      "application/vnd.jupyter.widget-view+json": {
       "model_id": "d94b53f75fb24389a6387ef111a87251",
       "version_major": 2,
       "version_minor": 0
      },
      "text/plain": [
       "Figure(layout=FigureLayout(height='420px'))"
      ]
     },
     "metadata": {},
     "output_type": "display_data"
    }
   ],
   "source": [
    "data_df['Max_Temp(F)'] = [float(data_df.loc[x,'Max_Temp(F)']) for x in range(len(data_df))]\n",
    "data_df['Humidity(%)'] = [float(data_df.loc[x,'Humidity(%)']) for x in range(len(data_df))]\n",
    "data_df['Cloudiness'] = [float(data_df.loc[x,'Cloudiness']) for x in range(len(data_df))]\n",
    "\n",
    "filt = ((data_df['Max_Temp(F)']>=70) & (data_df['Max_Temp(F)']<=90) & (data_df['Humidity(%)']<=85) & (data_df['Cloudiness']<=70))\n",
    "ideal_df = data_df.loc[filt].reset_index()\n",
    "\n",
    "ideal_locations = [[float(ideal_df.loc[x,'Latitude']),float(ideal_df.loc[x,'Longitude'])] for x in range(len(ideal_df))]\n",
    "\n",
    "fig = gmaps.figure(map_type='HYBRID', center=(1.0, -100.0), zoom_level = 2)\n",
    "heatmap = gmaps.heatmap_layer(ideal_locations)\n",
    "heatmap.max_intensity = 2\n",
    "heatmap.point_radius = 20\n",
    "fig.add_layer(heatmap)\n",
    "fig"
   ]
  },
  {
   "cell_type": "code",
   "execution_count": 60,
   "metadata": {},
   "outputs": [],
   "source": [
    "for x in range(len(ideal_df)):\n",
    "    idealcity = ideal_df['City']\n",
    "    ideallat = ideal_df['Latitude']\n",
    "    ideallat = ideal_df['Longitude']\n",
    "    gapi_url = \"https://maps.googleapis.com/maps/api/place/textsearch/json?query=hotel+idealcity&sensor=false&location=ideallat,ideallng&radius=5000&key=google_key\""
   ]
  },
  {
   "cell_type": "code",
   "execution_count": null,
   "metadata": {},
   "outputs": [],
   "source": []
  }
 ],
 "metadata": {
  "kernelspec": {
   "display_name": "Python [conda env:PythonData] *",
   "language": "python",
   "name": "conda-env-PythonData-py"
  },
  "language_info": {
   "codemirror_mode": {
    "name": "ipython",
    "version": 3
   },
   "file_extension": ".py",
   "mimetype": "text/x-python",
   "name": "python",
   "nbconvert_exporter": "python",
   "pygments_lexer": "ipython3",
   "version": "3.6.10"
  }
 },
 "nbformat": 4,
 "nbformat_minor": 4
}
